{
  "cells": [
    {
      "cell_type": "markdown",
      "metadata": {
        "id": "view-in-github",
        "colab_type": "text"
      },
      "source": [
        "<a href=\"https://colab.research.google.com/github/urstrulydinesh/Sentiment-Analysis-of-IMDB-data-set/blob/main/imdb_movie_reviews_sentiment_analysis_(1).ipynb\" target=\"_parent\"><img src=\"https://colab.research.google.com/assets/colab-badge.svg\" alt=\"Open In Colab\"/></a>"
      ]
    },
    {
      "cell_type": "code",
      "execution_count": null,
      "id": "95d6a808",
      "metadata": {
        "execution": {
          "iopub.execute_input": "2022-12-11T16:30:38.822912Z",
          "iopub.status.busy": "2022-12-11T16:30:38.822437Z",
          "iopub.status.idle": "2022-12-11T16:30:46.911893Z",
          "shell.execute_reply": "2022-12-11T16:30:46.911063Z"
        },
        "id": "95d6a808",
        "outputId": "cb0af4ab-8ba2-4c72-9501-8e7dd30c01d0",
        "papermill": {
          "duration": 8.101775,
          "end_time": "2022-12-11T16:30:46.914896",
          "exception": false,
          "start_time": "2022-12-11T16:30:38.813121",
          "status": "completed"
        },
        "tags": [],
        "colab": {
          "base_uri": "https://localhost:8080/"
        }
      },
      "outputs": [
        {
          "output_type": "stream",
          "name": "stderr",
          "text": [
            "[nltk_data] Downloading package stopwords to /root/nltk_data...\n",
            "[nltk_data]   Package stopwords is already up-to-date!\n",
            "[nltk_data] Downloading package punkt to /root/nltk_data...\n",
            "[nltk_data]   Package punkt is already up-to-date!\n"
          ]
        }
      ],
      "source": [
        "import numpy as np\n",
        "import pandas as pd\n",
        "import tensorflow as tf\n",
        "import tensorflow.keras as keras\n",
        "from tensorflow.keras.preprocessing.text import Tokenizer\n",
        "from tensorflow.keras.preprocessing.sequence import pad_sequences\n",
        "from tensorflow.keras.models import Sequential,load_model\n",
        "from tensorflow.keras.layers import LSTM, Dense, Embedding, Dropout, Bidirectional, GlobalMaxPooling1D, BatchNormalization,Conv1D, MaxPooling1D, Flatten\n",
        "from tensorflow.keras.callbacks import EarlyStopping, ModelCheckpoint\n",
        "import re\n",
        "from textblob import TextBlob\n",
        "from nltk.tokenize import word_tokenize\n",
        "from nltk.stem import PorterStemmer\n",
        "from nltk.corpus import stopwords\n",
        "import nltk\n",
        "nltk.download('stopwords')\n",
        "nltk.download('punkt')\n",
        "stop_words = set(stopwords.words('english'))\n",
        "from sklearn.feature_extraction.text import CountVectorizer\n",
        "from sklearn.model_selection import train_test_split\n",
        "from sklearn.linear_model import LogisticRegression\n",
        "from sklearn.metrics import accuracy_score, classification_report, confusion_matrix, ConfusionMatrixDisplay\n",
        "import matplotlib.pyplot as plt\n"
      ]
    },
    {
      "cell_type": "code",
      "source": [
        "from google.colab import drive\n",
        "drive.mount('/content/drive')"
      ],
      "metadata": {
        "id": "wKv7wUNnNqTG"
      },
      "id": "wKv7wUNnNqTG",
      "execution_count": null,
      "outputs": []
    },
    {
      "cell_type": "code",
      "execution_count": null,
      "id": "50b45b81",
      "metadata": {
        "execution": {
          "iopub.execute_input": "2022-12-11T16:30:46.930775Z",
          "iopub.status.busy": "2022-12-11T16:30:46.930072Z",
          "iopub.status.idle": "2022-12-11T16:30:48.441802Z",
          "shell.execute_reply": "2022-12-11T16:30:48.440668Z"
        },
        "id": "50b45b81",
        "papermill": {
          "duration": 1.52252,
          "end_time": "2022-12-11T16:30:48.444602",
          "exception": false,
          "start_time": "2022-12-11T16:30:46.922082",
          "status": "completed"
        },
        "tags": []
      },
      "outputs": [],
      "source": [
        "df = pd.read_csv(\"IMDB Dataset.csv\")"
      ]
    },
    {
      "cell_type": "code",
      "execution_count": null,
      "id": "cd773136",
      "metadata": {
        "execution": {
          "iopub.execute_input": "2022-12-11T16:30:48.459134Z",
          "iopub.status.busy": "2022-12-11T16:30:48.458750Z",
          "iopub.status.idle": "2022-12-11T16:30:48.478504Z",
          "shell.execute_reply": "2022-12-11T16:30:48.477389Z"
        },
        "id": "cd773136",
        "outputId": "44fe51b7-f7d3-47cc-bd46-76c6744ebea1",
        "papermill": {
          "duration": 0.029895,
          "end_time": "2022-12-11T16:30:48.480988",
          "exception": false,
          "start_time": "2022-12-11T16:30:48.451093",
          "status": "completed"
        },
        "tags": [],
        "colab": {
          "base_uri": "https://localhost:8080/",
          "height": 206
        }
      },
      "outputs": [
        {
          "output_type": "execute_result",
          "data": {
            "text/plain": [
              "                                              review sentiment\n",
              "0  One of the other reviewers has mentioned that ...  positive\n",
              "1  A wonderful little production. <br /><br />The...  positive\n",
              "2  I thought this was a wonderful way to spend ti...  positive\n",
              "3  Basically there's a family where a little boy ...  negative\n",
              "4  Petter Mattei's \"Love in the Time of Money\" is...  positive"
            ],
            "text/html": [
              "\n",
              "  <div id=\"df-d30b0526-0da9-4c28-ad50-008671de851f\">\n",
              "    <div class=\"colab-df-container\">\n",
              "      <div>\n",
              "<style scoped>\n",
              "    .dataframe tbody tr th:only-of-type {\n",
              "        vertical-align: middle;\n",
              "    }\n",
              "\n",
              "    .dataframe tbody tr th {\n",
              "        vertical-align: top;\n",
              "    }\n",
              "\n",
              "    .dataframe thead th {\n",
              "        text-align: right;\n",
              "    }\n",
              "</style>\n",
              "<table border=\"1\" class=\"dataframe\">\n",
              "  <thead>\n",
              "    <tr style=\"text-align: right;\">\n",
              "      <th></th>\n",
              "      <th>review</th>\n",
              "      <th>sentiment</th>\n",
              "    </tr>\n",
              "  </thead>\n",
              "  <tbody>\n",
              "    <tr>\n",
              "      <th>0</th>\n",
              "      <td>One of the other reviewers has mentioned that ...</td>\n",
              "      <td>positive</td>\n",
              "    </tr>\n",
              "    <tr>\n",
              "      <th>1</th>\n",
              "      <td>A wonderful little production. &lt;br /&gt;&lt;br /&gt;The...</td>\n",
              "      <td>positive</td>\n",
              "    </tr>\n",
              "    <tr>\n",
              "      <th>2</th>\n",
              "      <td>I thought this was a wonderful way to spend ti...</td>\n",
              "      <td>positive</td>\n",
              "    </tr>\n",
              "    <tr>\n",
              "      <th>3</th>\n",
              "      <td>Basically there's a family where a little boy ...</td>\n",
              "      <td>negative</td>\n",
              "    </tr>\n",
              "    <tr>\n",
              "      <th>4</th>\n",
              "      <td>Petter Mattei's \"Love in the Time of Money\" is...</td>\n",
              "      <td>positive</td>\n",
              "    </tr>\n",
              "  </tbody>\n",
              "</table>\n",
              "</div>\n",
              "      <button class=\"colab-df-convert\" onclick=\"convertToInteractive('df-d30b0526-0da9-4c28-ad50-008671de851f')\"\n",
              "              title=\"Convert this dataframe to an interactive table.\"\n",
              "              style=\"display:none;\">\n",
              "        \n",
              "  <svg xmlns=\"http://www.w3.org/2000/svg\" height=\"24px\"viewBox=\"0 0 24 24\"\n",
              "       width=\"24px\">\n",
              "    <path d=\"M0 0h24v24H0V0z\" fill=\"none\"/>\n",
              "    <path d=\"M18.56 5.44l.94 2.06.94-2.06 2.06-.94-2.06-.94-.94-2.06-.94 2.06-2.06.94zm-11 1L8.5 8.5l.94-2.06 2.06-.94-2.06-.94L8.5 2.5l-.94 2.06-2.06.94zm10 10l.94 2.06.94-2.06 2.06-.94-2.06-.94-.94-2.06-.94 2.06-2.06.94z\"/><path d=\"M17.41 7.96l-1.37-1.37c-.4-.4-.92-.59-1.43-.59-.52 0-1.04.2-1.43.59L10.3 9.45l-7.72 7.72c-.78.78-.78 2.05 0 2.83L4 21.41c.39.39.9.59 1.41.59.51 0 1.02-.2 1.41-.59l7.78-7.78 2.81-2.81c.8-.78.8-2.07 0-2.86zM5.41 20L4 18.59l7.72-7.72 1.47 1.35L5.41 20z\"/>\n",
              "  </svg>\n",
              "      </button>\n",
              "      \n",
              "  <style>\n",
              "    .colab-df-container {\n",
              "      display:flex;\n",
              "      flex-wrap:wrap;\n",
              "      gap: 12px;\n",
              "    }\n",
              "\n",
              "    .colab-df-convert {\n",
              "      background-color: #E8F0FE;\n",
              "      border: none;\n",
              "      border-radius: 50%;\n",
              "      cursor: pointer;\n",
              "      display: none;\n",
              "      fill: #1967D2;\n",
              "      height: 32px;\n",
              "      padding: 0 0 0 0;\n",
              "      width: 32px;\n",
              "    }\n",
              "\n",
              "    .colab-df-convert:hover {\n",
              "      background-color: #E2EBFA;\n",
              "      box-shadow: 0px 1px 2px rgba(60, 64, 67, 0.3), 0px 1px 3px 1px rgba(60, 64, 67, 0.15);\n",
              "      fill: #174EA6;\n",
              "    }\n",
              "\n",
              "    [theme=dark] .colab-df-convert {\n",
              "      background-color: #3B4455;\n",
              "      fill: #D2E3FC;\n",
              "    }\n",
              "\n",
              "    [theme=dark] .colab-df-convert:hover {\n",
              "      background-color: #434B5C;\n",
              "      box-shadow: 0px 1px 3px 1px rgba(0, 0, 0, 0.15);\n",
              "      filter: drop-shadow(0px 1px 2px rgba(0, 0, 0, 0.3));\n",
              "      fill: #FFFFFF;\n",
              "    }\n",
              "  </style>\n",
              "\n",
              "      <script>\n",
              "        const buttonEl =\n",
              "          document.querySelector('#df-d30b0526-0da9-4c28-ad50-008671de851f button.colab-df-convert');\n",
              "        buttonEl.style.display =\n",
              "          google.colab.kernel.accessAllowed ? 'block' : 'none';\n",
              "\n",
              "        async function convertToInteractive(key) {\n",
              "          const element = document.querySelector('#df-d30b0526-0da9-4c28-ad50-008671de851f');\n",
              "          const dataTable =\n",
              "            await google.colab.kernel.invokeFunction('convertToInteractive',\n",
              "                                                     [key], {});\n",
              "          if (!dataTable) return;\n",
              "\n",
              "          const docLinkHtml = 'Like what you see? Visit the ' +\n",
              "            '<a target=\"_blank\" href=https://colab.research.google.com/notebooks/data_table.ipynb>data table notebook</a>'\n",
              "            + ' to learn more about interactive tables.';\n",
              "          element.innerHTML = '';\n",
              "          dataTable['output_type'] = 'display_data';\n",
              "          await google.colab.output.renderOutput(dataTable, element);\n",
              "          const docLink = document.createElement('div');\n",
              "          docLink.innerHTML = docLinkHtml;\n",
              "          element.appendChild(docLink);\n",
              "        }\n",
              "      </script>\n",
              "    </div>\n",
              "  </div>\n",
              "  "
            ]
          },
          "metadata": {},
          "execution_count": 6
        }
      ],
      "source": [
        "df.head()"
      ]
    },
    {
      "cell_type": "code",
      "execution_count": null,
      "id": "ae895db2",
      "metadata": {
        "execution": {
          "iopub.execute_input": "2022-12-11T16:30:48.495961Z",
          "iopub.status.busy": "2022-12-11T16:30:48.495578Z",
          "iopub.status.idle": "2022-12-11T16:30:48.502075Z",
          "shell.execute_reply": "2022-12-11T16:30:48.501075Z"
        },
        "id": "ae895db2",
        "outputId": "407a8262-ed30-4855-d61b-7db742171128",
        "papermill": {
          "duration": 0.016834,
          "end_time": "2022-12-11T16:30:48.504526",
          "exception": false,
          "start_time": "2022-12-11T16:30:48.487692",
          "status": "completed"
        },
        "tags": [],
        "colab": {
          "base_uri": "https://localhost:8080/"
        }
      },
      "outputs": [
        {
          "output_type": "execute_result",
          "data": {
            "text/plain": [
              "(50000, 2)"
            ]
          },
          "metadata": {},
          "execution_count": 7
        }
      ],
      "source": [
        "df.shape"
      ]
    },
    {
      "cell_type": "code",
      "execution_count": null,
      "id": "357cacc3",
      "metadata": {
        "execution": {
          "iopub.execute_input": "2022-12-11T16:30:48.520571Z",
          "iopub.status.busy": "2022-12-11T16:30:48.519083Z",
          "iopub.status.idle": "2022-12-11T16:30:48.550297Z",
          "shell.execute_reply": "2022-12-11T16:30:48.548948Z"
        },
        "id": "357cacc3",
        "outputId": "cd2c9a3f-0982-40ba-dedf-54a91ce8d7cb",
        "papermill": {
          "duration": 0.041676,
          "end_time": "2022-12-11T16:30:48.553022",
          "exception": false,
          "start_time": "2022-12-11T16:30:48.511346",
          "status": "completed"
        },
        "tags": [],
        "colab": {
          "base_uri": "https://localhost:8080/"
        }
      },
      "outputs": [
        {
          "output_type": "stream",
          "name": "stdout",
          "text": [
            "<class 'pandas.core.frame.DataFrame'>\n",
            "RangeIndex: 50000 entries, 0 to 49999\n",
            "Data columns (total 2 columns):\n",
            " #   Column     Non-Null Count  Dtype \n",
            "---  ------     --------------  ----- \n",
            " 0   review     50000 non-null  object\n",
            " 1   sentiment  50000 non-null  object\n",
            "dtypes: object(2)\n",
            "memory usage: 781.4+ KB\n"
          ]
        }
      ],
      "source": [
        "df.info()"
      ]
    },
    {
      "cell_type": "code",
      "execution_count": null,
      "id": "fa758cf6",
      "metadata": {
        "execution": {
          "iopub.execute_input": "2022-12-11T16:30:48.569553Z",
          "iopub.status.busy": "2022-12-11T16:30:48.569128Z",
          "iopub.status.idle": "2022-12-11T16:30:48.579697Z",
          "shell.execute_reply": "2022-12-11T16:30:48.578608Z"
        },
        "id": "fa758cf6",
        "outputId": "f078a483-2e16-4ad2-98bb-32133c8ee39e",
        "papermill": {
          "duration": 0.021698,
          "end_time": "2022-12-11T16:30:48.581977",
          "exception": false,
          "start_time": "2022-12-11T16:30:48.560279",
          "status": "completed"
        },
        "tags": [],
        "colab": {
          "base_uri": "https://localhost:8080/"
        }
      },
      "outputs": [
        {
          "output_type": "execute_result",
          "data": {
            "text/plain": [
              "positive    25000\n",
              "negative    25000\n",
              "Name: sentiment, dtype: int64"
            ]
          },
          "metadata": {},
          "execution_count": 9
        }
      ],
      "source": [
        "df['sentiment'].value_counts()"
      ]
    },
    {
      "cell_type": "code",
      "execution_count": null,
      "id": "ec1281b1",
      "metadata": {
        "execution": {
          "iopub.execute_input": "2022-12-11T16:30:48.599806Z",
          "iopub.status.busy": "2022-12-11T16:30:48.598866Z",
          "iopub.status.idle": "2022-12-11T16:30:48.800660Z",
          "shell.execute_reply": "2022-12-11T16:30:48.799431Z"
        },
        "id": "ec1281b1",
        "papermill": {
          "duration": 0.214594,
          "end_time": "2022-12-11T16:30:48.803471",
          "exception": false,
          "start_time": "2022-12-11T16:30:48.588877",
          "status": "completed"
        },
        "tags": []
      },
      "outputs": [],
      "source": [
        "df = df.drop_duplicates()"
      ]
    },
    {
      "cell_type": "code",
      "execution_count": null,
      "id": "8fb41ac1",
      "metadata": {
        "execution": {
          "iopub.execute_input": "2022-12-11T16:30:48.818849Z",
          "iopub.status.busy": "2022-12-11T16:30:48.818466Z",
          "iopub.status.idle": "2022-12-11T16:30:48.824922Z",
          "shell.execute_reply": "2022-12-11T16:30:48.823869Z"
        },
        "id": "8fb41ac1",
        "outputId": "dd8b0c87-9f3c-4909-cb81-1f95792865a6",
        "papermill": {
          "duration": 0.01676,
          "end_time": "2022-12-11T16:30:48.827167",
          "exception": false,
          "start_time": "2022-12-11T16:30:48.810407",
          "status": "completed"
        },
        "tags": [],
        "colab": {
          "base_uri": "https://localhost:8080/"
        }
      },
      "outputs": [
        {
          "output_type": "execute_result",
          "data": {
            "text/plain": [
              "(49582, 2)"
            ]
          },
          "metadata": {},
          "execution_count": 11
        }
      ],
      "source": [
        "df.shape"
      ]
    },
    {
      "cell_type": "code",
      "execution_count": null,
      "id": "56487dc1",
      "metadata": {
        "execution": {
          "iopub.execute_input": "2022-12-11T16:30:48.842802Z",
          "iopub.status.busy": "2022-12-11T16:30:48.842441Z",
          "iopub.status.idle": "2022-12-11T16:30:48.848850Z",
          "shell.execute_reply": "2022-12-11T16:30:48.847837Z"
        },
        "id": "56487dc1",
        "papermill": {
          "duration": 0.016832,
          "end_time": "2022-12-11T16:30:48.851110",
          "exception": false,
          "start_time": "2022-12-11T16:30:48.834278",
          "status": "completed"
        },
        "tags": []
      },
      "outputs": [],
      "source": [
        "def data_processing(text):\n",
        "    text = text.lower()\n",
        "    #text = TextBlob(text).correct().string\n",
        "    text = re.sub(r\"https?://\\S+\", '',text, flags=re.MULTILINE)#remove urls\n",
        "    text = re.sub(r'\\@w+|\\#','',text)#remove hashtags and mentions\n",
        "    text = re.sub(r'[^\\w\\s]','',text)#remove panctuations\n",
        "    text_tokens = word_tokenize(text)#split the sentence\n",
        "    filtered_text = [w for w in text_tokens if not w in stop_words]#remove stopwords\n",
        "    return \" \".join(filtered_text)"
      ]
    },
    {
      "cell_type": "code",
      "execution_count": null,
      "id": "325146d7",
      "metadata": {
        "execution": {
          "iopub.execute_input": "2022-12-11T16:30:48.866680Z",
          "iopub.status.busy": "2022-12-11T16:30:48.866302Z",
          "iopub.status.idle": "2022-12-11T16:31:30.378910Z",
          "shell.execute_reply": "2022-12-11T16:31:30.377676Z"
        },
        "id": "325146d7",
        "papermill": {
          "duration": 41.523769,
          "end_time": "2022-12-11T16:31:30.381892",
          "exception": false,
          "start_time": "2022-12-11T16:30:48.858123",
          "status": "completed"
        },
        "tags": []
      },
      "outputs": [],
      "source": [
        "df['review'] = df['review'].apply(data_processing)"
      ]
    },
    {
      "cell_type": "code",
      "execution_count": null,
      "id": "a7388c51",
      "metadata": {
        "execution": {
          "iopub.execute_input": "2022-12-11T16:31:30.398393Z",
          "iopub.status.busy": "2022-12-11T16:31:30.397979Z",
          "iopub.status.idle": "2022-12-11T16:31:30.404261Z",
          "shell.execute_reply": "2022-12-11T16:31:30.402997Z"
        },
        "id": "a7388c51",
        "papermill": {
          "duration": 0.017189,
          "end_time": "2022-12-11T16:31:30.406615",
          "exception": false,
          "start_time": "2022-12-11T16:31:30.389426",
          "status": "completed"
        },
        "tags": []
      },
      "outputs": [],
      "source": [
        "stemmer = PorterStemmer()\n",
        "def stemming(data):\n",
        "    text = [stemmer.stem(word) for word in data]\n",
        "    return data"
      ]
    },
    {
      "cell_type": "code",
      "execution_count": null,
      "id": "8a2a7413",
      "metadata": {
        "execution": {
          "iopub.execute_input": "2022-12-11T16:31:30.423115Z",
          "iopub.status.busy": "2022-12-11T16:31:30.422329Z",
          "iopub.status.idle": "2022-12-11T16:32:04.089782Z",
          "shell.execute_reply": "2022-12-11T16:32:04.088592Z"
        },
        "id": "8a2a7413",
        "papermill": {
          "duration": 33.67837,
          "end_time": "2022-12-11T16:32:04.092349",
          "exception": false,
          "start_time": "2022-12-11T16:31:30.413979",
          "status": "completed"
        },
        "tags": []
      },
      "outputs": [],
      "source": [
        "df['review'] = df['review'].apply(stemming)"
      ]
    },
    {
      "cell_type": "code",
      "execution_count": null,
      "id": "876933bd",
      "metadata": {
        "execution": {
          "iopub.execute_input": "2022-12-11T16:32:04.108841Z",
          "iopub.status.busy": "2022-12-11T16:32:04.108468Z",
          "iopub.status.idle": "2022-12-11T16:32:04.118946Z",
          "shell.execute_reply": "2022-12-11T16:32:04.117768Z"
        },
        "id": "876933bd",
        "outputId": "9b8227fd-9bb9-487e-f856-9588f04592cd",
        "papermill": {
          "duration": 0.021365,
          "end_time": "2022-12-11T16:32:04.121287",
          "exception": false,
          "start_time": "2022-12-11T16:32:04.099922",
          "status": "completed"
        },
        "tags": [],
        "colab": {
          "base_uri": "https://localhost:8080/",
          "height": 206
        }
      },
      "outputs": [
        {
          "output_type": "execute_result",
          "data": {
            "text/plain": [
              "                                              review sentiment\n",
              "0  one reviewers mentioned watching 1 oz episode ...  positive\n",
              "1  wonderful little production br br filming tech...  positive\n",
              "2  thought wonderful way spend time hot summer we...  positive\n",
              "3  basically theres family little boy jake thinks...  negative\n",
              "4  petter matteis love time money visually stunni...  positive"
            ],
            "text/html": [
              "\n",
              "  <div id=\"df-37afb236-eece-40f6-8755-d9417b628445\">\n",
              "    <div class=\"colab-df-container\">\n",
              "      <div>\n",
              "<style scoped>\n",
              "    .dataframe tbody tr th:only-of-type {\n",
              "        vertical-align: middle;\n",
              "    }\n",
              "\n",
              "    .dataframe tbody tr th {\n",
              "        vertical-align: top;\n",
              "    }\n",
              "\n",
              "    .dataframe thead th {\n",
              "        text-align: right;\n",
              "    }\n",
              "</style>\n",
              "<table border=\"1\" class=\"dataframe\">\n",
              "  <thead>\n",
              "    <tr style=\"text-align: right;\">\n",
              "      <th></th>\n",
              "      <th>review</th>\n",
              "      <th>sentiment</th>\n",
              "    </tr>\n",
              "  </thead>\n",
              "  <tbody>\n",
              "    <tr>\n",
              "      <th>0</th>\n",
              "      <td>one reviewers mentioned watching 1 oz episode ...</td>\n",
              "      <td>positive</td>\n",
              "    </tr>\n",
              "    <tr>\n",
              "      <th>1</th>\n",
              "      <td>wonderful little production br br filming tech...</td>\n",
              "      <td>positive</td>\n",
              "    </tr>\n",
              "    <tr>\n",
              "      <th>2</th>\n",
              "      <td>thought wonderful way spend time hot summer we...</td>\n",
              "      <td>positive</td>\n",
              "    </tr>\n",
              "    <tr>\n",
              "      <th>3</th>\n",
              "      <td>basically theres family little boy jake thinks...</td>\n",
              "      <td>negative</td>\n",
              "    </tr>\n",
              "    <tr>\n",
              "      <th>4</th>\n",
              "      <td>petter matteis love time money visually stunni...</td>\n",
              "      <td>positive</td>\n",
              "    </tr>\n",
              "  </tbody>\n",
              "</table>\n",
              "</div>\n",
              "      <button class=\"colab-df-convert\" onclick=\"convertToInteractive('df-37afb236-eece-40f6-8755-d9417b628445')\"\n",
              "              title=\"Convert this dataframe to an interactive table.\"\n",
              "              style=\"display:none;\">\n",
              "        \n",
              "  <svg xmlns=\"http://www.w3.org/2000/svg\" height=\"24px\"viewBox=\"0 0 24 24\"\n",
              "       width=\"24px\">\n",
              "    <path d=\"M0 0h24v24H0V0z\" fill=\"none\"/>\n",
              "    <path d=\"M18.56 5.44l.94 2.06.94-2.06 2.06-.94-2.06-.94-.94-2.06-.94 2.06-2.06.94zm-11 1L8.5 8.5l.94-2.06 2.06-.94-2.06-.94L8.5 2.5l-.94 2.06-2.06.94zm10 10l.94 2.06.94-2.06 2.06-.94-2.06-.94-.94-2.06-.94 2.06-2.06.94z\"/><path d=\"M17.41 7.96l-1.37-1.37c-.4-.4-.92-.59-1.43-.59-.52 0-1.04.2-1.43.59L10.3 9.45l-7.72 7.72c-.78.78-.78 2.05 0 2.83L4 21.41c.39.39.9.59 1.41.59.51 0 1.02-.2 1.41-.59l7.78-7.78 2.81-2.81c.8-.78.8-2.07 0-2.86zM5.41 20L4 18.59l7.72-7.72 1.47 1.35L5.41 20z\"/>\n",
              "  </svg>\n",
              "      </button>\n",
              "      \n",
              "  <style>\n",
              "    .colab-df-container {\n",
              "      display:flex;\n",
              "      flex-wrap:wrap;\n",
              "      gap: 12px;\n",
              "    }\n",
              "\n",
              "    .colab-df-convert {\n",
              "      background-color: #E8F0FE;\n",
              "      border: none;\n",
              "      border-radius: 50%;\n",
              "      cursor: pointer;\n",
              "      display: none;\n",
              "      fill: #1967D2;\n",
              "      height: 32px;\n",
              "      padding: 0 0 0 0;\n",
              "      width: 32px;\n",
              "    }\n",
              "\n",
              "    .colab-df-convert:hover {\n",
              "      background-color: #E2EBFA;\n",
              "      box-shadow: 0px 1px 2px rgba(60, 64, 67, 0.3), 0px 1px 3px 1px rgba(60, 64, 67, 0.15);\n",
              "      fill: #174EA6;\n",
              "    }\n",
              "\n",
              "    [theme=dark] .colab-df-convert {\n",
              "      background-color: #3B4455;\n",
              "      fill: #D2E3FC;\n",
              "    }\n",
              "\n",
              "    [theme=dark] .colab-df-convert:hover {\n",
              "      background-color: #434B5C;\n",
              "      box-shadow: 0px 1px 3px 1px rgba(0, 0, 0, 0.15);\n",
              "      filter: drop-shadow(0px 1px 2px rgba(0, 0, 0, 0.3));\n",
              "      fill: #FFFFFF;\n",
              "    }\n",
              "  </style>\n",
              "\n",
              "      <script>\n",
              "        const buttonEl =\n",
              "          document.querySelector('#df-37afb236-eece-40f6-8755-d9417b628445 button.colab-df-convert');\n",
              "        buttonEl.style.display =\n",
              "          google.colab.kernel.accessAllowed ? 'block' : 'none';\n",
              "\n",
              "        async function convertToInteractive(key) {\n",
              "          const element = document.querySelector('#df-37afb236-eece-40f6-8755-d9417b628445');\n",
              "          const dataTable =\n",
              "            await google.colab.kernel.invokeFunction('convertToInteractive',\n",
              "                                                     [key], {});\n",
              "          if (!dataTable) return;\n",
              "\n",
              "          const docLinkHtml = 'Like what you see? Visit the ' +\n",
              "            '<a target=\"_blank\" href=https://colab.research.google.com/notebooks/data_table.ipynb>data table notebook</a>'\n",
              "            + ' to learn more about interactive tables.';\n",
              "          element.innerHTML = '';\n",
              "          dataTable['output_type'] = 'display_data';\n",
              "          await google.colab.output.renderOutput(dataTable, element);\n",
              "          const docLink = document.createElement('div');\n",
              "          docLink.innerHTML = docLinkHtml;\n",
              "          element.appendChild(docLink);\n",
              "        }\n",
              "      </script>\n",
              "    </div>\n",
              "  </div>\n",
              "  "
            ]
          },
          "metadata": {},
          "execution_count": 16
        }
      ],
      "source": [
        "df.head()"
      ]
    },
    {
      "cell_type": "code",
      "execution_count": null,
      "id": "bd4675da",
      "metadata": {
        "execution": {
          "iopub.execute_input": "2022-12-11T16:32:04.137909Z",
          "iopub.status.busy": "2022-12-11T16:32:04.137505Z",
          "iopub.status.idle": "2022-12-11T16:32:04.155190Z",
          "shell.execute_reply": "2022-12-11T16:32:04.153943Z"
        },
        "id": "bd4675da",
        "outputId": "d70cf1b5-893b-4241-e8ca-6a83d719ee5f",
        "papermill": {
          "duration": 0.028744,
          "end_time": "2022-12-11T16:32:04.157502",
          "exception": false,
          "start_time": "2022-12-11T16:32:04.128758",
          "status": "completed"
        },
        "tags": [],
        "colab": {
          "base_uri": "https://localhost:8080/",
          "height": 206
        }
      },
      "outputs": [
        {
          "output_type": "execute_result",
          "data": {
            "text/plain": [
              "                                              review sentiment\n",
              "0  one reviewers mentioned watching 1 oz episode ...  positive\n",
              "1  wonderful little production br br filming tech...  positive\n",
              "2  thought wonderful way spend time hot summer we...  positive\n",
              "4  petter matteis love time money visually stunni...  positive\n",
              "5  probably alltime favorite movie story selfless...  positive"
            ],
            "text/html": [
              "\n",
              "  <div id=\"df-905e6a59-d2c0-48c0-bcc8-d64286dbc08c\">\n",
              "    <div class=\"colab-df-container\">\n",
              "      <div>\n",
              "<style scoped>\n",
              "    .dataframe tbody tr th:only-of-type {\n",
              "        vertical-align: middle;\n",
              "    }\n",
              "\n",
              "    .dataframe tbody tr th {\n",
              "        vertical-align: top;\n",
              "    }\n",
              "\n",
              "    .dataframe thead th {\n",
              "        text-align: right;\n",
              "    }\n",
              "</style>\n",
              "<table border=\"1\" class=\"dataframe\">\n",
              "  <thead>\n",
              "    <tr style=\"text-align: right;\">\n",
              "      <th></th>\n",
              "      <th>review</th>\n",
              "      <th>sentiment</th>\n",
              "    </tr>\n",
              "  </thead>\n",
              "  <tbody>\n",
              "    <tr>\n",
              "      <th>0</th>\n",
              "      <td>one reviewers mentioned watching 1 oz episode ...</td>\n",
              "      <td>positive</td>\n",
              "    </tr>\n",
              "    <tr>\n",
              "      <th>1</th>\n",
              "      <td>wonderful little production br br filming tech...</td>\n",
              "      <td>positive</td>\n",
              "    </tr>\n",
              "    <tr>\n",
              "      <th>2</th>\n",
              "      <td>thought wonderful way spend time hot summer we...</td>\n",
              "      <td>positive</td>\n",
              "    </tr>\n",
              "    <tr>\n",
              "      <th>4</th>\n",
              "      <td>petter matteis love time money visually stunni...</td>\n",
              "      <td>positive</td>\n",
              "    </tr>\n",
              "    <tr>\n",
              "      <th>5</th>\n",
              "      <td>probably alltime favorite movie story selfless...</td>\n",
              "      <td>positive</td>\n",
              "    </tr>\n",
              "  </tbody>\n",
              "</table>\n",
              "</div>\n",
              "      <button class=\"colab-df-convert\" onclick=\"convertToInteractive('df-905e6a59-d2c0-48c0-bcc8-d64286dbc08c')\"\n",
              "              title=\"Convert this dataframe to an interactive table.\"\n",
              "              style=\"display:none;\">\n",
              "        \n",
              "  <svg xmlns=\"http://www.w3.org/2000/svg\" height=\"24px\"viewBox=\"0 0 24 24\"\n",
              "       width=\"24px\">\n",
              "    <path d=\"M0 0h24v24H0V0z\" fill=\"none\"/>\n",
              "    <path d=\"M18.56 5.44l.94 2.06.94-2.06 2.06-.94-2.06-.94-.94-2.06-.94 2.06-2.06.94zm-11 1L8.5 8.5l.94-2.06 2.06-.94-2.06-.94L8.5 2.5l-.94 2.06-2.06.94zm10 10l.94 2.06.94-2.06 2.06-.94-2.06-.94-.94-2.06-.94 2.06-2.06.94z\"/><path d=\"M17.41 7.96l-1.37-1.37c-.4-.4-.92-.59-1.43-.59-.52 0-1.04.2-1.43.59L10.3 9.45l-7.72 7.72c-.78.78-.78 2.05 0 2.83L4 21.41c.39.39.9.59 1.41.59.51 0 1.02-.2 1.41-.59l7.78-7.78 2.81-2.81c.8-.78.8-2.07 0-2.86zM5.41 20L4 18.59l7.72-7.72 1.47 1.35L5.41 20z\"/>\n",
              "  </svg>\n",
              "      </button>\n",
              "      \n",
              "  <style>\n",
              "    .colab-df-container {\n",
              "      display:flex;\n",
              "      flex-wrap:wrap;\n",
              "      gap: 12px;\n",
              "    }\n",
              "\n",
              "    .colab-df-convert {\n",
              "      background-color: #E8F0FE;\n",
              "      border: none;\n",
              "      border-radius: 50%;\n",
              "      cursor: pointer;\n",
              "      display: none;\n",
              "      fill: #1967D2;\n",
              "      height: 32px;\n",
              "      padding: 0 0 0 0;\n",
              "      width: 32px;\n",
              "    }\n",
              "\n",
              "    .colab-df-convert:hover {\n",
              "      background-color: #E2EBFA;\n",
              "      box-shadow: 0px 1px 2px rgba(60, 64, 67, 0.3), 0px 1px 3px 1px rgba(60, 64, 67, 0.15);\n",
              "      fill: #174EA6;\n",
              "    }\n",
              "\n",
              "    [theme=dark] .colab-df-convert {\n",
              "      background-color: #3B4455;\n",
              "      fill: #D2E3FC;\n",
              "    }\n",
              "\n",
              "    [theme=dark] .colab-df-convert:hover {\n",
              "      background-color: #434B5C;\n",
              "      box-shadow: 0px 1px 3px 1px rgba(0, 0, 0, 0.15);\n",
              "      filter: drop-shadow(0px 1px 2px rgba(0, 0, 0, 0.3));\n",
              "      fill: #FFFFFF;\n",
              "    }\n",
              "  </style>\n",
              "\n",
              "      <script>\n",
              "        const buttonEl =\n",
              "          document.querySelector('#df-905e6a59-d2c0-48c0-bcc8-d64286dbc08c button.colab-df-convert');\n",
              "        buttonEl.style.display =\n",
              "          google.colab.kernel.accessAllowed ? 'block' : 'none';\n",
              "\n",
              "        async function convertToInteractive(key) {\n",
              "          const element = document.querySelector('#df-905e6a59-d2c0-48c0-bcc8-d64286dbc08c');\n",
              "          const dataTable =\n",
              "            await google.colab.kernel.invokeFunction('convertToInteractive',\n",
              "                                                     [key], {});\n",
              "          if (!dataTable) return;\n",
              "\n",
              "          const docLinkHtml = 'Like what you see? Visit the ' +\n",
              "            '<a target=\"_blank\" href=https://colab.research.google.com/notebooks/data_table.ipynb>data table notebook</a>'\n",
              "            + ' to learn more about interactive tables.';\n",
              "          element.innerHTML = '';\n",
              "          dataTable['output_type'] = 'display_data';\n",
              "          await google.colab.output.renderOutput(dataTable, element);\n",
              "          const docLink = document.createElement('div');\n",
              "          docLink.innerHTML = docLinkHtml;\n",
              "          element.appendChild(docLink);\n",
              "        }\n",
              "      </script>\n",
              "    </div>\n",
              "  </div>\n",
              "  "
            ]
          },
          "metadata": {},
          "execution_count": 17
        }
      ],
      "source": [
        "pos_tweets = df[df.sentiment == \"positive\"]\n",
        "pos_tweets.head()"
      ]
    },
    {
      "cell_type": "code",
      "execution_count": null,
      "id": "c8aca958",
      "metadata": {
        "execution": {
          "iopub.execute_input": "2022-12-11T16:32:37.941789Z",
          "iopub.status.busy": "2022-12-11T16:32:37.941412Z",
          "iopub.status.idle": "2022-12-11T16:32:37.959025Z",
          "shell.execute_reply": "2022-12-11T16:32:37.957889Z"
        },
        "id": "c8aca958",
        "outputId": "a6782f4e-1ae7-4fa7-cb89-cc0eade8ac44",
        "papermill": {
          "duration": 0.039514,
          "end_time": "2022-12-11T16:32:37.961233",
          "exception": false,
          "start_time": "2022-12-11T16:32:37.921719",
          "status": "completed"
        },
        "tags": [],
        "colab": {
          "base_uri": "https://localhost:8080/",
          "height": 206
        }
      },
      "outputs": [
        {
          "output_type": "execute_result",
          "data": {
            "text/plain": [
              "                                               review sentiment\n",
              "3   basically theres family little boy jake thinks...  negative\n",
              "7   show amazing fresh innovative idea 70s first a...  negative\n",
              "8   encouraged positive comments film looking forw...  negative\n",
              "10  phil alien one quirky films humour based aroun...  negative\n",
              "11  saw movie 12 came recall scariest scene big bi...  negative"
            ],
            "text/html": [
              "\n",
              "  <div id=\"df-596c88d1-a40f-4fee-9603-0554c6fb9210\">\n",
              "    <div class=\"colab-df-container\">\n",
              "      <div>\n",
              "<style scoped>\n",
              "    .dataframe tbody tr th:only-of-type {\n",
              "        vertical-align: middle;\n",
              "    }\n",
              "\n",
              "    .dataframe tbody tr th {\n",
              "        vertical-align: top;\n",
              "    }\n",
              "\n",
              "    .dataframe thead th {\n",
              "        text-align: right;\n",
              "    }\n",
              "</style>\n",
              "<table border=\"1\" class=\"dataframe\">\n",
              "  <thead>\n",
              "    <tr style=\"text-align: right;\">\n",
              "      <th></th>\n",
              "      <th>review</th>\n",
              "      <th>sentiment</th>\n",
              "    </tr>\n",
              "  </thead>\n",
              "  <tbody>\n",
              "    <tr>\n",
              "      <th>3</th>\n",
              "      <td>basically theres family little boy jake thinks...</td>\n",
              "      <td>negative</td>\n",
              "    </tr>\n",
              "    <tr>\n",
              "      <th>7</th>\n",
              "      <td>show amazing fresh innovative idea 70s first a...</td>\n",
              "      <td>negative</td>\n",
              "    </tr>\n",
              "    <tr>\n",
              "      <th>8</th>\n",
              "      <td>encouraged positive comments film looking forw...</td>\n",
              "      <td>negative</td>\n",
              "    </tr>\n",
              "    <tr>\n",
              "      <th>10</th>\n",
              "      <td>phil alien one quirky films humour based aroun...</td>\n",
              "      <td>negative</td>\n",
              "    </tr>\n",
              "    <tr>\n",
              "      <th>11</th>\n",
              "      <td>saw movie 12 came recall scariest scene big bi...</td>\n",
              "      <td>negative</td>\n",
              "    </tr>\n",
              "  </tbody>\n",
              "</table>\n",
              "</div>\n",
              "      <button class=\"colab-df-convert\" onclick=\"convertToInteractive('df-596c88d1-a40f-4fee-9603-0554c6fb9210')\"\n",
              "              title=\"Convert this dataframe to an interactive table.\"\n",
              "              style=\"display:none;\">\n",
              "        \n",
              "  <svg xmlns=\"http://www.w3.org/2000/svg\" height=\"24px\"viewBox=\"0 0 24 24\"\n",
              "       width=\"24px\">\n",
              "    <path d=\"M0 0h24v24H0V0z\" fill=\"none\"/>\n",
              "    <path d=\"M18.56 5.44l.94 2.06.94-2.06 2.06-.94-2.06-.94-.94-2.06-.94 2.06-2.06.94zm-11 1L8.5 8.5l.94-2.06 2.06-.94-2.06-.94L8.5 2.5l-.94 2.06-2.06.94zm10 10l.94 2.06.94-2.06 2.06-.94-2.06-.94-.94-2.06-.94 2.06-2.06.94z\"/><path d=\"M17.41 7.96l-1.37-1.37c-.4-.4-.92-.59-1.43-.59-.52 0-1.04.2-1.43.59L10.3 9.45l-7.72 7.72c-.78.78-.78 2.05 0 2.83L4 21.41c.39.39.9.59 1.41.59.51 0 1.02-.2 1.41-.59l7.78-7.78 2.81-2.81c.8-.78.8-2.07 0-2.86zM5.41 20L4 18.59l7.72-7.72 1.47 1.35L5.41 20z\"/>\n",
              "  </svg>\n",
              "      </button>\n",
              "      \n",
              "  <style>\n",
              "    .colab-df-container {\n",
              "      display:flex;\n",
              "      flex-wrap:wrap;\n",
              "      gap: 12px;\n",
              "    }\n",
              "\n",
              "    .colab-df-convert {\n",
              "      background-color: #E8F0FE;\n",
              "      border: none;\n",
              "      border-radius: 50%;\n",
              "      cursor: pointer;\n",
              "      display: none;\n",
              "      fill: #1967D2;\n",
              "      height: 32px;\n",
              "      padding: 0 0 0 0;\n",
              "      width: 32px;\n",
              "    }\n",
              "\n",
              "    .colab-df-convert:hover {\n",
              "      background-color: #E2EBFA;\n",
              "      box-shadow: 0px 1px 2px rgba(60, 64, 67, 0.3), 0px 1px 3px 1px rgba(60, 64, 67, 0.15);\n",
              "      fill: #174EA6;\n",
              "    }\n",
              "\n",
              "    [theme=dark] .colab-df-convert {\n",
              "      background-color: #3B4455;\n",
              "      fill: #D2E3FC;\n",
              "    }\n",
              "\n",
              "    [theme=dark] .colab-df-convert:hover {\n",
              "      background-color: #434B5C;\n",
              "      box-shadow: 0px 1px 3px 1px rgba(0, 0, 0, 0.15);\n",
              "      filter: drop-shadow(0px 1px 2px rgba(0, 0, 0, 0.3));\n",
              "      fill: #FFFFFF;\n",
              "    }\n",
              "  </style>\n",
              "\n",
              "      <script>\n",
              "        const buttonEl =\n",
              "          document.querySelector('#df-596c88d1-a40f-4fee-9603-0554c6fb9210 button.colab-df-convert');\n",
              "        buttonEl.style.display =\n",
              "          google.colab.kernel.accessAllowed ? 'block' : 'none';\n",
              "\n",
              "        async function convertToInteractive(key) {\n",
              "          const element = document.querySelector('#df-596c88d1-a40f-4fee-9603-0554c6fb9210');\n",
              "          const dataTable =\n",
              "            await google.colab.kernel.invokeFunction('convertToInteractive',\n",
              "                                                     [key], {});\n",
              "          if (!dataTable) return;\n",
              "\n",
              "          const docLinkHtml = 'Like what you see? Visit the ' +\n",
              "            '<a target=\"_blank\" href=https://colab.research.google.com/notebooks/data_table.ipynb>data table notebook</a>'\n",
              "            + ' to learn more about interactive tables.';\n",
              "          element.innerHTML = '';\n",
              "          dataTable['output_type'] = 'display_data';\n",
              "          await google.colab.output.renderOutput(dataTable, element);\n",
              "          const docLink = document.createElement('div');\n",
              "          docLink.innerHTML = docLinkHtml;\n",
              "          element.appendChild(docLink);\n",
              "        }\n",
              "      </script>\n",
              "    </div>\n",
              "  </div>\n",
              "  "
            ]
          },
          "metadata": {},
          "execution_count": 18
        }
      ],
      "source": [
        "neg_tweets = df[df.sentiment == \"negative\"]\n",
        "neg_tweets.head()"
      ]
    },
    {
      "cell_type": "code",
      "execution_count": null,
      "id": "7e2784d4",
      "metadata": {
        "execution": {
          "iopub.execute_input": "2022-12-11T16:33:10.278409Z",
          "iopub.status.busy": "2022-12-11T16:33:10.277966Z",
          "iopub.status.idle": "2022-12-11T16:33:10.304277Z",
          "shell.execute_reply": "2022-12-11T16:33:10.303152Z"
        },
        "id": "7e2784d4",
        "papermill": {
          "duration": 0.060637,
          "end_time": "2022-12-11T16:33:10.306508",
          "exception": false,
          "start_time": "2022-12-11T16:33:10.245871",
          "status": "completed"
        },
        "tags": []
      },
      "outputs": [],
      "source": [
        "mapping = {\"positive\" : 1, \"negative\" : 0}\n",
        "df['sentiment'] = df['sentiment'].replace(mapping)"
      ]
    },
    {
      "cell_type": "code",
      "execution_count": null,
      "id": "afd18df1",
      "metadata": {
        "execution": {
          "iopub.execute_input": "2022-12-11T16:33:10.371328Z",
          "iopub.status.busy": "2022-12-11T16:33:10.370894Z",
          "iopub.status.idle": "2022-12-11T16:33:10.379898Z",
          "shell.execute_reply": "2022-12-11T16:33:10.378779Z"
        },
        "id": "afd18df1",
        "outputId": "b098c1cf-29a1-4d5c-cf63-be5f324324c9",
        "papermill": {
          "duration": 0.044015,
          "end_time": "2022-12-11T16:33:10.382010",
          "exception": false,
          "start_time": "2022-12-11T16:33:10.337995",
          "status": "completed"
        },
        "tags": [],
        "colab": {
          "base_uri": "https://localhost:8080/"
        }
      },
      "outputs": [
        {
          "output_type": "execute_result",
          "data": {
            "text/plain": [
              "1    24884\n",
              "0    24698\n",
              "Name: sentiment, dtype: int64"
            ]
          },
          "metadata": {},
          "execution_count": 20
        }
      ],
      "source": [
        "df['sentiment'].value_counts()"
      ]
    },
    {
      "cell_type": "code",
      "execution_count": null,
      "id": "0d77bd90",
      "metadata": {
        "execution": {
          "iopub.execute_input": "2022-12-11T16:33:10.445733Z",
          "iopub.status.busy": "2022-12-11T16:33:10.445282Z",
          "iopub.status.idle": "2022-12-11T16:33:47.769232Z",
          "shell.execute_reply": "2022-12-11T16:33:47.768219Z"
        },
        "id": "0d77bd90",
        "outputId": "a8785549-a671-4df8-cec0-d08bf617f043",
        "papermill": {
          "duration": 37.359536,
          "end_time": "2022-12-11T16:33:47.771975",
          "exception": false,
          "start_time": "2022-12-11T16:33:10.412439",
          "status": "completed"
        },
        "tags": [],
        "colab": {
          "base_uri": "https://localhost:8080/"
        }
      },
      "outputs": [
        {
          "output_type": "stream",
          "name": "stderr",
          "text": [
            "/usr/local/lib/python3.8/dist-packages/sklearn/utils/deprecation.py:87: FutureWarning: Function get_feature_names is deprecated; get_feature_names is deprecated in 1.0 and will be removed in 1.2. Please use get_feature_names_out instead.\n",
            "  warnings.warn(msg, category=FutureWarning)\n"
          ]
        }
      ],
      "source": [
        "vect = CountVectorizer(ngram_range=(1,2)).fit(df['review'])\n",
        "feature_names = vect.get_feature_names_out()"
      ]
    },
    {
      "cell_type": "code",
      "execution_count": null,
      "id": "29aebaed",
      "metadata": {
        "execution": {
          "iopub.execute_input": "2022-12-11T16:33:47.836061Z",
          "iopub.status.busy": "2022-12-11T16:33:47.835680Z",
          "iopub.status.idle": "2022-12-11T16:34:02.564262Z",
          "shell.execute_reply": "2022-12-11T16:34:02.563032Z"
        },
        "id": "29aebaed",
        "papermill": {
          "duration": 14.764391,
          "end_time": "2022-12-11T16:34:02.567282",
          "exception": false,
          "start_time": "2022-12-11T16:33:47.802891",
          "status": "completed"
        },
        "tags": []
      },
      "outputs": [],
      "source": [
        "X = df['review']\n",
        "X = vect.transform(X)\n",
        "Y = df['sentiment']\n",
        "x_train, x_test, y_train, y_test = train_test_split(X, Y, test_size=0.1, random_state=42)"
      ]
    },
    {
      "cell_type": "code",
      "execution_count": null,
      "id": "c831aa6f",
      "metadata": {
        "execution": {
          "iopub.execute_input": "2022-12-11T16:34:02.631437Z",
          "iopub.status.busy": "2022-12-11T16:34:02.631010Z",
          "iopub.status.idle": "2022-12-11T16:35:40.027380Z",
          "shell.execute_reply": "2022-12-11T16:35:40.026205Z"
        },
        "id": "c831aa6f",
        "papermill": {
          "duration": 97.464409,
          "end_time": "2022-12-11T16:35:40.062720",
          "exception": false,
          "start_time": "2022-12-11T16:34:02.598311",
          "status": "completed"
        },
        "tags": [],
        "outputId": "5197bae0-9c20-4572-c13d-3b270e01b86c",
        "colab": {
          "base_uri": "https://localhost:8080/"
        }
      },
      "outputs": [
        {
          "output_type": "error",
          "ename": "NameError",
          "evalue": "ignored",
          "traceback": [
            "\u001b[0;31m---------------------------------------------------------------------------\u001b[0m",
            "\u001b[0;31mNameError\u001b[0m                                 Traceback (most recent call last)",
            "\u001b[0;32m<ipython-input-1-21a2e06cd4e2>\u001b[0m in \u001b[0;36m<module>\u001b[0;34m\u001b[0m\n\u001b[0;32m----> 1\u001b[0;31m \u001b[0mlogreg\u001b[0m \u001b[0;34m=\u001b[0m \u001b[0mLogisticRegression\u001b[0m\u001b[0;34m(\u001b[0m\u001b[0mmax_iter\u001b[0m\u001b[0;34m=\u001b[0m\u001b[0;36m1000\u001b[0m\u001b[0;34m)\u001b[0m\u001b[0;34m\u001b[0m\u001b[0;34m\u001b[0m\u001b[0m\n\u001b[0m\u001b[1;32m      2\u001b[0m \u001b[0mlogreg\u001b[0m\u001b[0;34m.\u001b[0m\u001b[0mfit\u001b[0m\u001b[0;34m(\u001b[0m\u001b[0mx_train\u001b[0m\u001b[0;34m,\u001b[0m \u001b[0my_train\u001b[0m\u001b[0;34m)\u001b[0m\u001b[0;34m\u001b[0m\u001b[0;34m\u001b[0m\u001b[0m\n\u001b[1;32m      3\u001b[0m \u001b[0mlogreg_pred\u001b[0m \u001b[0;34m=\u001b[0m \u001b[0mlogreg\u001b[0m\u001b[0;34m.\u001b[0m\u001b[0mpredict\u001b[0m\u001b[0;34m(\u001b[0m\u001b[0mx_test\u001b[0m\u001b[0;34m)\u001b[0m\u001b[0;34m\u001b[0m\u001b[0;34m\u001b[0m\u001b[0m\n\u001b[1;32m      4\u001b[0m \u001b[0mlogreg_acc\u001b[0m \u001b[0;34m=\u001b[0m \u001b[0maccuracy_score\u001b[0m\u001b[0;34m(\u001b[0m\u001b[0mlogreg_pred\u001b[0m\u001b[0;34m,\u001b[0m \u001b[0my_test\u001b[0m\u001b[0;34m)\u001b[0m\u001b[0;34m\u001b[0m\u001b[0;34m\u001b[0m\u001b[0m\n\u001b[1;32m      5\u001b[0m \u001b[0mprint\u001b[0m\u001b[0;34m(\u001b[0m\u001b[0;34m\"Test accuracy: {:.2f}%\"\u001b[0m\u001b[0;34m.\u001b[0m\u001b[0mformat\u001b[0m\u001b[0;34m(\u001b[0m\u001b[0mlogreg_acc\u001b[0m\u001b[0;34m*\u001b[0m\u001b[0;36m100\u001b[0m\u001b[0;34m)\u001b[0m\u001b[0;34m)\u001b[0m\u001b[0;34m\u001b[0m\u001b[0;34m\u001b[0m\u001b[0m\n",
            "\u001b[0;31mNameError\u001b[0m: name 'LogisticRegression' is not defined"
          ]
        }
      ],
      "source": [
        "logreg = LogisticRegression(max_iter=1000)\n",
        "logreg.fit(x_train, y_train)\n",
        "logreg_pred = logreg.predict(x_test)\n",
        "logreg_acc = accuracy_score(logreg_pred, y_test)\n",
        "print(\"Test accuracy: {:.2f}%\".format(logreg_acc*100))"
      ]
    },
    {
      "cell_type": "code",
      "execution_count": null,
      "id": "5bee31a4",
      "metadata": {
        "execution": {
          "iopub.execute_input": "2022-12-11T16:35:40.128086Z",
          "iopub.status.busy": "2022-12-11T16:35:40.127695Z",
          "iopub.status.idle": "2022-12-11T16:35:40.143599Z",
          "shell.execute_reply": "2022-12-11T16:35:40.142374Z"
        },
        "id": "5bee31a4",
        "papermill": {
          "duration": 0.051605,
          "end_time": "2022-12-11T16:35:40.146066",
          "exception": false,
          "start_time": "2022-12-11T16:35:40.094461",
          "status": "completed"
        },
        "tags": []
      },
      "outputs": [],
      "source": [
        "X = df['review']\n",
        "Y = df['sentiment']\n",
        "x_train, x_test, y_train, y_test = train_test_split(X, Y, test_size=0.1, random_state=42)"
      ]
    },
    {
      "cell_type": "code",
      "execution_count": null,
      "id": "e5a52231",
      "metadata": {
        "execution": {
          "iopub.execute_input": "2022-12-11T16:35:40.210781Z",
          "iopub.status.busy": "2022-12-11T16:35:40.210353Z",
          "iopub.status.idle": "2022-12-11T16:35:40.245305Z",
          "shell.execute_reply": "2022-12-11T16:35:40.244112Z"
        },
        "id": "e5a52231",
        "outputId": "8096763d-7c7f-4369-c323-3cc4908a978a",
        "papermill": {
          "duration": 0.070107,
          "end_time": "2022-12-11T16:35:40.247769",
          "exception": false,
          "start_time": "2022-12-11T16:35:40.177662",
          "status": "completed"
        },
        "tags": [],
        "colab": {
          "base_uri": "https://localhost:8080/"
        }
      },
      "outputs": [
        {
          "output_type": "stream",
          "name": "stdout",
          "text": [
            "9334\n"
          ]
        }
      ],
      "source": [
        "max_len = max([len(x) for x in X])\n",
        "print(max_len)"
      ]
    },
    {
      "cell_type": "code",
      "execution_count": null,
      "id": "90527a1d",
      "metadata": {
        "execution": {
          "iopub.execute_input": "2022-12-11T16:35:40.313740Z",
          "iopub.status.busy": "2022-12-11T16:35:40.312523Z",
          "iopub.status.idle": "2022-12-11T16:35:40.326763Z",
          "shell.execute_reply": "2022-12-11T16:35:40.325820Z"
        },
        "id": "90527a1d",
        "papermill": {
          "duration": 0.050144,
          "end_time": "2022-12-11T16:35:40.329348",
          "exception": false,
          "start_time": "2022-12-11T16:35:40.279204",
          "status": "completed"
        },
        "tags": []
      },
      "outputs": [],
      "source": [
        "x_train, x_test, y_train, y_test = train_test_split(X, Y, test_size=0.01, random_state=42)"
      ]
    },
    {
      "cell_type": "code",
      "execution_count": null,
      "id": "b888117c",
      "metadata": {
        "execution": {
          "iopub.execute_input": "2022-12-11T16:35:40.395363Z",
          "iopub.status.busy": "2022-12-11T16:35:40.394631Z",
          "iopub.status.idle": "2022-12-11T16:35:52.736716Z",
          "shell.execute_reply": "2022-12-11T16:35:52.735779Z"
        },
        "id": "b888117c",
        "papermill": {
          "duration": 12.378378,
          "end_time": "2022-12-11T16:35:52.739209",
          "exception": false,
          "start_time": "2022-12-11T16:35:40.360831",
          "status": "completed"
        },
        "tags": []
      },
      "outputs": [],
      "source": [
        "#Tokenize the sentences\n",
        "tokenizer = Tokenizer()\n",
        "#preparing vocabulary\n",
        "tokenizer.fit_on_texts(x_train)\n",
        "#converting text into integer sequences\n",
        "x_train = tokenizer.texts_to_sequences(x_train)\n",
        "x_test = tokenizer.texts_to_sequences(x_test)\n",
        "#padding to prepare sequences of same length\n",
        "x_train = pad_sequences(x_train,maxlen=max_len)\n",
        "x_test = pad_sequences(x_test,maxlen=max_len)\n"
      ]
    },
    {
      "cell_type": "code",
      "execution_count": null,
      "id": "71ca8eaf",
      "metadata": {
        "execution": {
          "iopub.execute_input": "2022-12-11T16:35:52.805257Z",
          "iopub.status.busy": "2022-12-11T16:35:52.804574Z",
          "iopub.status.idle": "2022-12-11T16:35:52.809847Z",
          "shell.execute_reply": "2022-12-11T16:35:52.808754Z"
        },
        "id": "71ca8eaf",
        "outputId": "fb871145-46e0-4ccf-c285-441a02ca8f78",
        "papermill": {
          "duration": 0.04032,
          "end_time": "2022-12-11T16:35:52.812005",
          "exception": false,
          "start_time": "2022-12-11T16:35:52.771685",
          "status": "completed"
        },
        "tags": [],
        "colab": {
          "base_uri": "https://localhost:8080/"
        }
      },
      "outputs": [
        {
          "output_type": "stream",
          "name": "stdout",
          "text": [
            "179517\n"
          ]
        }
      ],
      "source": [
        "size_of_vocabulary = len(tokenizer.word_index)+1\n",
        "print(size_of_vocabulary)"
      ]
    },
    {
      "cell_type": "code",
      "execution_count": null,
      "id": "1a082d6b",
      "metadata": {
        "execution": {
          "iopub.execute_input": "2022-12-11T16:35:52.875737Z",
          "iopub.status.busy": "2022-12-11T16:35:52.875360Z",
          "iopub.status.idle": "2022-12-11T16:35:53.164771Z",
          "shell.execute_reply": "2022-12-11T16:35:53.163533Z"
        },
        "id": "1a082d6b",
        "outputId": "4be6e7e4-0797-4a18-c643-6c4ac53c861d",
        "papermill": {
          "duration": 0.324426,
          "end_time": "2022-12-11T16:35:53.167159",
          "exception": false,
          "start_time": "2022-12-11T16:35:52.842733",
          "status": "completed"
        },
        "tags": [],
        "colab": {
          "base_uri": "https://localhost:8080/"
        }
      },
      "outputs": [
        {
          "output_type": "stream",
          "name": "stdout",
          "text": [
            "Model: \"sequential\"\n",
            "_________________________________________________________________\n",
            " Layer (type)                Output Shape              Param #   \n",
            "=================================================================\n",
            " embedding (Embedding)       (None, 9334, 128)         22978176  \n",
            "                                                                 \n",
            " dropout (Dropout)           (None, 9334, 128)         0         \n",
            "                                                                 \n",
            " flatten (Flatten)           (None, 1194752)           0         \n",
            "                                                                 \n",
            " dense (Dense)               (None, 1)                 1194753   \n",
            "                                                                 \n",
            "=================================================================\n",
            "Total params: 24,172,929\n",
            "Trainable params: 24,172,929\n",
            "Non-trainable params: 0\n",
            "_________________________________________________________________\n"
          ]
        }
      ],
      "source": [
        "model = Sequential()\n",
        "#embedding layer\n",
        "model.add(Embedding(size_of_vocabulary,128,input_length=max_len))\n",
        "model.add(Dense(64,activation='relu'))\n",
        "model.add(Dropout(0.5))\n",
        "model.add(Flatten())\n",
        "model.add(Dense(1,activation='sigmoid'))\n",
        "#Add loss function, metrics, optimizer\n",
        "model.compile(loss='binary_crossentropy',optimizer='adam',metrics=['accuracy'])\n",
        "#Adding callbacks\n",
        "es = EarlyStopping(monitor='val_loss',mode='min',verbose=1,patience=3)\n",
        "mc = ModelCheckpoint('best_model.h5', monitor='val_accuracy', mode='max', save_best_only=True,verbose=1)\n",
        "#summary\n",
        "model.summary()"
      ]
    },
    {
      "cell_type": "code",
      "execution_count": null,
      "id": "6a6a1fa5",
      "metadata": {
        "execution": {
          "iopub.execute_input": "2022-12-11T16:35:53.231853Z",
          "iopub.status.busy": "2022-12-11T16:35:53.231454Z",
          "iopub.status.idle": "2022-12-11T17:14:55.466049Z",
          "shell.execute_reply": "2022-12-11T17:14:55.465112Z"
        },
        "id": "6a6a1fa5",
        "outputId": "f23dcb59-9828-4a0a-c4e3-325d07ed24c9",
        "papermill": {
          "duration": 2342.269858,
          "end_time": "2022-12-11T17:14:55.468637",
          "exception": false,
          "start_time": "2022-12-11T16:35:53.198779",
          "status": "completed"
        },
        "tags": [],
        "colab": {
          "base_uri": "https://localhost:8080/"
        }
      },
      "outputs": [
        {
          "output_type": "stream",
          "name": "stdout",
          "text": [
            "Epoch 1/5\n",
            "767/767 [==============================] - ETA: 0s - loss: 0.3787 - accuracy: 0.8325\n",
            "Epoch 1: val_accuracy improved from -inf to 0.90121, saving model to best_model.h5\n",
            "767/767 [==============================] - 1003s 1s/step - loss: 0.3787 - accuracy: 0.8325 - val_loss: 0.2399 - val_accuracy: 0.9012\n",
            "Epoch 2/5\n",
            "767/767 [==============================] - ETA: 0s - loss: 0.1277 - accuracy: 0.9551\n",
            "Epoch 2: val_accuracy improved from 0.90121 to 0.90323, saving model to best_model.h5\n",
            "767/767 [==============================] - 1007s 1s/step - loss: 0.1277 - accuracy: 0.9551 - val_loss: 0.2471 - val_accuracy: 0.9032\n",
            "Epoch 3/5\n",
            "767/767 [==============================] - ETA: 0s - loss: 0.0403 - accuracy: 0.9908\n",
            "Epoch 3: val_accuracy did not improve from 0.90323\n",
            "767/767 [==============================] - 999s 1s/step - loss: 0.0403 - accuracy: 0.9908 - val_loss: 0.2752 - val_accuracy: 0.8952\n",
            "Epoch 4/5\n",
            "767/767 [==============================] - ETA: 0s - loss: 0.0128 - accuracy: 0.9983\n",
            "Epoch 4: val_accuracy did not improve from 0.90323\n",
            "767/767 [==============================] - 998s 1s/step - loss: 0.0128 - accuracy: 0.9983 - val_loss: 0.2823 - val_accuracy: 0.8931\n",
            "Epoch 4: early stopping\n"
          ]
        }
      ],
      "source": [
        "history = model.fit(x_train, y_train,batch_size=64,epochs=5,\n",
        "                    validation_data=(x_test, y_test),verbose=1,callbacks=[es,mc])"
      ]
    },
    {
      "cell_type": "code",
      "source": [
        "loss_train = history.history['loss']\n",
        "val=history.history['val_loss']\n",
        "plt.plot(epochs,val,'g',label=\"Validation Loss\")\n",
        "epochs = range(1,5)\n",
        "plt.plot(epochs, loss_train, 'b', label='Training loss')\n",
        "plt.title('Training loss')\n",
        "plt.xlabel('Epochs')\n",
        "plt.ylabel('Loss')\n",
        "plt.legend()\n",
        "plt.show()"
      ],
      "metadata": {
        "colab": {
          "base_uri": "https://localhost:8080/",
          "height": 295
        },
        "id": "HfSiCc-pCEvL",
        "outputId": "8e349a0b-156f-431d-f111-aea6cb41a6eb"
      },
      "id": "HfSiCc-pCEvL",
      "execution_count": null,
      "outputs": [
        {
          "output_type": "display_data",
          "data": {
            "text/plain": [
              "<Figure size 432x288 with 1 Axes>"
            ],
            "image/png": "[encoded data removed]"
          },
          "metadata": {
            "needs_background": "light"
          }
        }
      ]
    },
    {
      "cell_type": "code",
      "source": [
        "\n",
        "plt.plot(history.history['accuracy'])\n",
        "plt.title('model accuracy')\n",
        "plt.ylabel('accuracy')\n",
        "plt.xlabel('epochs')"
      ],
      "metadata": {
        "colab": {
          "base_uri": "https://localhost:8080/",
          "height": 312
        },
        "id": "Gb6f6s16DEiU",
        "outputId": "9c1a8f22-ab91-4da3-b24f-9acd0e83a33d"
      },
      "id": "Gb6f6s16DEiU",
      "execution_count": null,
      "outputs": [
        {
          "output_type": "execute_result",
          "data": {
            "text/plain": [
              "Text(0.5, 0, 'epochs')"
            ]
          },
          "metadata": {},
          "execution_count": 41
        },
        {
          "output_type": "display_data",
          "data": {
            "text/plain": [
              "<Figure size 432x288 with 1 Axes>"
            ],
            "image/png": "[encoded data removed]"
          },
          "metadata": {
            "needs_background": "light"
          }
        }
      ]
    }
  ],
  "metadata": {
    "kernelspec": {
      "display_name": "Python 3",
      "language": "python",
      "name": "python3"
    },
    "language_info": {
      "codemirror_mode": {
        "name": "ipython",
        "version": 3
      },
      "file_extension": ".py",
      "mimetype": "text/x-python",
      "name": "python",
      "nbconvert_exporter": "python",
      "pygments_lexer": "ipython3",
      "version": "3.7.12"
    },
    "papermill": {
      "default_parameters": {},
      "duration": 2668.954502,
      "end_time": "2022-12-11T17:14:59.430082",
      "environment_variables": {},
      "exception": null,
      "input_path": "__notebook__.ipynb",
      "output_path": "__notebook__.ipynb",
      "parameters": {},
      "start_time": "2022-12-11T16:30:30.475580",
      "version": "2.3.4"
    },
    "colab": {
      "provenance": [],
      "include_colab_link": true
    }
  },
  "nbformat": 4,
  "nbformat_minor": 5
}